{
  "nbformat": 4,
  "nbformat_minor": 0,
  "metadata": {
    "colab": {
      "name": "LSTM Model",
      "provenance": [],
      "authorship_tag": "ABX9TyM04L9hDSn3B0HArDbigg+z",
      "include_colab_link": true
    },
    "kernelspec": {
      "name": "python3",
      "display_name": "Python 3"
    },
    "language_info": {
      "name": "python"
    }
  },
  "cells": [
    {
      "cell_type": "markdown",
      "metadata": {
        "id": "view-in-github",
        "colab_type": "text"
      },
      "source": [
        "<a href=\"https://colab.research.google.com/github/kangjw1208/Ethereum_Prediction/blob/main/LSTM_Model.ipynb\" target=\"_parent\"><img src=\"https://colab.research.google.com/assets/colab-badge.svg\" alt=\"Open In Colab\"/></a>"
      ]
    },
    {
      "cell_type": "code",
      "execution_count": 57,
      "metadata": {
        "id": "_HOpEo0J_A0B"
      },
      "outputs": [],
      "source": [
        "import numpy as np\n",
        "import pandas as pd\n",
        "import matplotlib.pyplot as plt\n",
        "%matplotlib inline\n",
        "from statsmodels.tsa.stattools import adfuller, acf, pacf\n",
        "from statsmodels.graphics.tsaplots import plot_pacf\n",
        "from statsmodels.graphics.tsaplots import plot_acf\n",
        "from statsmodels.tsa.arima_model import ARIMA\n",
        "from statsmodels.tsa.seasonal import seasonal_decompose\n",
        "from sklearn.metrics import mean_squared_error\n",
        "from sklearn.preprocessing import MinMaxScaler\n",
        "\n",
        "from tensorflow.keras.models import Sequential\n",
        "from tensorflow.keras.layers import Dense, LSTM, Dropout"
      ]
    },
    {
      "cell_type": "code",
      "source": [
        "df_d = pd.read_csv('https://raw.githubusercontent.com/kangjw1208/Ethereum_Prediction/main/data/Binance_ETHUSDT_d.csv')\n",
        "df_h = pd.read_csv('https://raw.githubusercontent.com/kangjw1208/Ethereum_Prediction/main/data/Binance_ETHUSDT_1h.csv')"
      ],
      "metadata": {
        "id": "bpyWTil0_EKJ"
      },
      "execution_count": 2,
      "outputs": []
    },
    {
      "cell_type": "code",
      "source": [
        "#Function to transform daily ethereum data into a time series data frame with date time index\n",
        "def to_datetime_day(df):\n",
        "    \n",
        "    df.reset_index(inplace=True)\n",
        "    df.columns = df.iloc[0]\n",
        "    df.drop(index = df.index[0:2], axis=0, inplace=True)\n",
        "    \n",
        "    df['date'] = df['date'].str[0:10]\n",
        "    df['date'] = pd.to_datetime(df['date'], format='%Y-%m-%d')\n",
        "    df.set_index('date', inplace = True)\n",
        "    \n",
        "    df.drop(df.columns[[0,1,-1,-2]], axis=1, inplace=True)\n",
        "    \n",
        "    for x in df.columns:\n",
        "        df[x] = df[x].astype(float)\n",
        "    \n",
        "    return df"
      ],
      "metadata": {
        "id": "YqcCtfg-_N7p"
      },
      "execution_count": 3,
      "outputs": []
    },
    {
      "cell_type": "code",
      "source": [
        "#Function to transform hourly ethereum data into a time series data frame with date time index\n",
        "def to_datetime_hour(df):\n",
        "    \n",
        "    df.reset_index(inplace=True)\n",
        "    df.columns = df.iloc[0]\n",
        "    df.drop(index = df.index[0:2], axis=0, inplace=True)\n",
        "    \n",
        "    def datetime_func(x):\n",
        "        if 'AM' in x:\n",
        "            return pd.to_datetime(x[0:13]+':00:00 AM').strftime('%Y-%m-%d %H:%M:%S')\n",
        "        elif 'PM' in x:\n",
        "            return pd.to_datetime(x[0:13]+':00:00 PM').strftime('%Y-%m-%d %H:%M:%S')\n",
        "        else:\n",
        "            return pd.to_datetime(x, format='%Y-%m-%d %H:%M:%S')\n",
        "    \n",
        "    df['date'] = df['date'].apply(datetime_func)\n",
        "    df.set_index('date', inplace = True)\n",
        "    df.drop(df.columns[[0,1,-1,-2]], axis=1, inplace=True)\n",
        "    \n",
        "    for x in df.columns:\n",
        "        df[x] = df[x].astype(float)\n",
        "    \n",
        "    return df"
      ],
      "metadata": {
        "id": "O82Xsap7_QBI"
      },
      "execution_count": 4,
      "outputs": []
    },
    {
      "cell_type": "code",
      "source": [
        "to_datetime_day(df_d)"
      ],
      "metadata": {
        "colab": {
          "base_uri": "https://localhost:8080/",
          "height": 455
        },
        "id": "3lwdEN52_Rvq",
        "outputId": "58bb7cf8-291f-4e94-b8e8-6cec11c0f71b"
      },
      "execution_count": 5,
      "outputs": [
        {
          "output_type": "execute_result",
          "data": {
            "text/html": [
              "\n",
              "  <div id=\"df-514cbc21-157e-4106-985d-17c3c32b5b92\">\n",
              "    <div class=\"colab-df-container\">\n",
              "      <div>\n",
              "<style scoped>\n",
              "    .dataframe tbody tr th:only-of-type {\n",
              "        vertical-align: middle;\n",
              "    }\n",
              "\n",
              "    .dataframe tbody tr th {\n",
              "        vertical-align: top;\n",
              "    }\n",
              "\n",
              "    .dataframe thead th {\n",
              "        text-align: right;\n",
              "    }\n",
              "</style>\n",
              "<table border=\"1\" class=\"dataframe\">\n",
              "  <thead>\n",
              "    <tr style=\"text-align: right;\">\n",
              "      <th></th>\n",
              "      <th>open</th>\n",
              "      <th>high</th>\n",
              "      <th>low</th>\n",
              "      <th>close</th>\n",
              "      <th>Volume ETH</th>\n",
              "    </tr>\n",
              "    <tr>\n",
              "      <th>date</th>\n",
              "      <th></th>\n",
              "      <th></th>\n",
              "      <th></th>\n",
              "      <th></th>\n",
              "      <th></th>\n",
              "    </tr>\n",
              "  </thead>\n",
              "  <tbody>\n",
              "    <tr>\n",
              "      <th>2022-01-10</th>\n",
              "      <td>3151.97</td>\n",
              "      <td>3185.00</td>\n",
              "      <td>2928.83</td>\n",
              "      <td>3082.68</td>\n",
              "      <td>529818.3866</td>\n",
              "    </tr>\n",
              "    <tr>\n",
              "      <th>2022-01-09</th>\n",
              "      <td>3080.98</td>\n",
              "      <td>3211.72</td>\n",
              "      <td>3057.35</td>\n",
              "      <td>3151.97</td>\n",
              "      <td>275874.1643</td>\n",
              "    </tr>\n",
              "    <tr>\n",
              "      <th>2022-01-08</th>\n",
              "      <td>3198.68</td>\n",
              "      <td>3250.00</td>\n",
              "      <td>3000.00</td>\n",
              "      <td>3080.95</td>\n",
              "      <td>400692.1061</td>\n",
              "    </tr>\n",
              "    <tr>\n",
              "      <th>2022-01-07</th>\n",
              "      <td>3406.81</td>\n",
              "      <td>3416.76</td>\n",
              "      <td>3064.42</td>\n",
              "      <td>3199.24</td>\n",
              "      <td>669631.7262</td>\n",
              "    </tr>\n",
              "    <tr>\n",
              "      <th>2022-01-06</th>\n",
              "      <td>3539.82</td>\n",
              "      <td>3550.43</td>\n",
              "      <td>3300.00</td>\n",
              "      <td>3406.81</td>\n",
              "      <td>496745.7413</td>\n",
              "    </tr>\n",
              "    <tr>\n",
              "      <th>...</th>\n",
              "      <td>...</td>\n",
              "      <td>...</td>\n",
              "      <td>...</td>\n",
              "      <td>...</td>\n",
              "      <td>...</td>\n",
              "    </tr>\n",
              "    <tr>\n",
              "      <th>2017-08-21</th>\n",
              "      <td>299.10</td>\n",
              "      <td>346.52</td>\n",
              "      <td>294.60</td>\n",
              "      <td>323.29</td>\n",
              "      <td>5134.5400</td>\n",
              "    </tr>\n",
              "    <tr>\n",
              "      <th>2017-08-20</th>\n",
              "      <td>290.91</td>\n",
              "      <td>300.53</td>\n",
              "      <td>282.85</td>\n",
              "      <td>299.10</td>\n",
              "      <td>2469.4900</td>\n",
              "    </tr>\n",
              "    <tr>\n",
              "      <th>2017-08-19</th>\n",
              "      <td>293.96</td>\n",
              "      <td>299.90</td>\n",
              "      <td>278.00</td>\n",
              "      <td>290.91</td>\n",
              "      <td>2140.0800</td>\n",
              "    </tr>\n",
              "    <tr>\n",
              "      <th>2017-08-18</th>\n",
              "      <td>302.00</td>\n",
              "      <td>311.79</td>\n",
              "      <td>283.94</td>\n",
              "      <td>293.96</td>\n",
              "      <td>9392.7900</td>\n",
              "    </tr>\n",
              "    <tr>\n",
              "      <th>2017-08-17</th>\n",
              "      <td>303.61</td>\n",
              "      <td>312.18</td>\n",
              "      <td>298.21</td>\n",
              "      <td>302.00</td>\n",
              "      <td>6155.3200</td>\n",
              "    </tr>\n",
              "  </tbody>\n",
              "</table>\n",
              "<p>1609 rows × 5 columns</p>\n",
              "</div>\n",
              "      <button class=\"colab-df-convert\" onclick=\"convertToInteractive('df-514cbc21-157e-4106-985d-17c3c32b5b92')\"\n",
              "              title=\"Convert this dataframe to an interactive table.\"\n",
              "              style=\"display:none;\">\n",
              "        \n",
              "  <svg xmlns=\"http://www.w3.org/2000/svg\" height=\"24px\"viewBox=\"0 0 24 24\"\n",
              "       width=\"24px\">\n",
              "    <path d=\"M0 0h24v24H0V0z\" fill=\"none\"/>\n",
              "    <path d=\"M18.56 5.44l.94 2.06.94-2.06 2.06-.94-2.06-.94-.94-2.06-.94 2.06-2.06.94zm-11 1L8.5 8.5l.94-2.06 2.06-.94-2.06-.94L8.5 2.5l-.94 2.06-2.06.94zm10 10l.94 2.06.94-2.06 2.06-.94-2.06-.94-.94-2.06-.94 2.06-2.06.94z\"/><path d=\"M17.41 7.96l-1.37-1.37c-.4-.4-.92-.59-1.43-.59-.52 0-1.04.2-1.43.59L10.3 9.45l-7.72 7.72c-.78.78-.78 2.05 0 2.83L4 21.41c.39.39.9.59 1.41.59.51 0 1.02-.2 1.41-.59l7.78-7.78 2.81-2.81c.8-.78.8-2.07 0-2.86zM5.41 20L4 18.59l7.72-7.72 1.47 1.35L5.41 20z\"/>\n",
              "  </svg>\n",
              "      </button>\n",
              "      \n",
              "  <style>\n",
              "    .colab-df-container {\n",
              "      display:flex;\n",
              "      flex-wrap:wrap;\n",
              "      gap: 12px;\n",
              "    }\n",
              "\n",
              "    .colab-df-convert {\n",
              "      background-color: #E8F0FE;\n",
              "      border: none;\n",
              "      border-radius: 50%;\n",
              "      cursor: pointer;\n",
              "      display: none;\n",
              "      fill: #1967D2;\n",
              "      height: 32px;\n",
              "      padding: 0 0 0 0;\n",
              "      width: 32px;\n",
              "    }\n",
              "\n",
              "    .colab-df-convert:hover {\n",
              "      background-color: #E2EBFA;\n",
              "      box-shadow: 0px 1px 2px rgba(60, 64, 67, 0.3), 0px 1px 3px 1px rgba(60, 64, 67, 0.15);\n",
              "      fill: #174EA6;\n",
              "    }\n",
              "\n",
              "    [theme=dark] .colab-df-convert {\n",
              "      background-color: #3B4455;\n",
              "      fill: #D2E3FC;\n",
              "    }\n",
              "\n",
              "    [theme=dark] .colab-df-convert:hover {\n",
              "      background-color: #434B5C;\n",
              "      box-shadow: 0px 1px 3px 1px rgba(0, 0, 0, 0.15);\n",
              "      filter: drop-shadow(0px 1px 2px rgba(0, 0, 0, 0.3));\n",
              "      fill: #FFFFFF;\n",
              "    }\n",
              "  </style>\n",
              "\n",
              "      <script>\n",
              "        const buttonEl =\n",
              "          document.querySelector('#df-514cbc21-157e-4106-985d-17c3c32b5b92 button.colab-df-convert');\n",
              "        buttonEl.style.display =\n",
              "          google.colab.kernel.accessAllowed ? 'block' : 'none';\n",
              "\n",
              "        async function convertToInteractive(key) {\n",
              "          const element = document.querySelector('#df-514cbc21-157e-4106-985d-17c3c32b5b92');\n",
              "          const dataTable =\n",
              "            await google.colab.kernel.invokeFunction('convertToInteractive',\n",
              "                                                     [key], {});\n",
              "          if (!dataTable) return;\n",
              "\n",
              "          const docLinkHtml = 'Like what you see? Visit the ' +\n",
              "            '<a target=\"_blank\" href=https://colab.research.google.com/notebooks/data_table.ipynb>data table notebook</a>'\n",
              "            + ' to learn more about interactive tables.';\n",
              "          element.innerHTML = '';\n",
              "          dataTable['output_type'] = 'display_data';\n",
              "          await google.colab.output.renderOutput(dataTable, element);\n",
              "          const docLink = document.createElement('div');\n",
              "          docLink.innerHTML = docLinkHtml;\n",
              "          element.appendChild(docLink);\n",
              "        }\n",
              "      </script>\n",
              "    </div>\n",
              "  </div>\n",
              "  "
            ],
            "text/plain": [
              "0              open     high      low    close   Volume ETH\n",
              "date                                                       \n",
              "2022-01-10  3151.97  3185.00  2928.83  3082.68  529818.3866\n",
              "2022-01-09  3080.98  3211.72  3057.35  3151.97  275874.1643\n",
              "2022-01-08  3198.68  3250.00  3000.00  3080.95  400692.1061\n",
              "2022-01-07  3406.81  3416.76  3064.42  3199.24  669631.7262\n",
              "2022-01-06  3539.82  3550.43  3300.00  3406.81  496745.7413\n",
              "...             ...      ...      ...      ...          ...\n",
              "2017-08-21   299.10   346.52   294.60   323.29    5134.5400\n",
              "2017-08-20   290.91   300.53   282.85   299.10    2469.4900\n",
              "2017-08-19   293.96   299.90   278.00   290.91    2140.0800\n",
              "2017-08-18   302.00   311.79   283.94   293.96    9392.7900\n",
              "2017-08-17   303.61   312.18   298.21   302.00    6155.3200\n",
              "\n",
              "[1609 rows x 5 columns]"
            ]
          },
          "metadata": {},
          "execution_count": 5
        }
      ]
    },
    {
      "cell_type": "code",
      "source": [
        "to_datetime_hour(df_h)"
      ],
      "metadata": {
        "colab": {
          "base_uri": "https://localhost:8080/",
          "height": 455
        },
        "id": "5AVR_D0i_Tul",
        "outputId": "79aef47b-9417-4e26-dadc-305ae35e6787"
      },
      "execution_count": 6,
      "outputs": [
        {
          "output_type": "execute_result",
          "data": {
            "text/html": [
              "\n",
              "  <div id=\"df-0333d4fb-628c-46a7-942a-d8b00c8f4220\">\n",
              "    <div class=\"colab-df-container\">\n",
              "      <div>\n",
              "<style scoped>\n",
              "    .dataframe tbody tr th:only-of-type {\n",
              "        vertical-align: middle;\n",
              "    }\n",
              "\n",
              "    .dataframe tbody tr th {\n",
              "        vertical-align: top;\n",
              "    }\n",
              "\n",
              "    .dataframe thead th {\n",
              "        text-align: right;\n",
              "    }\n",
              "</style>\n",
              "<table border=\"1\" class=\"dataframe\">\n",
              "  <thead>\n",
              "    <tr style=\"text-align: right;\">\n",
              "      <th></th>\n",
              "      <th>open</th>\n",
              "      <th>high</th>\n",
              "      <th>low</th>\n",
              "      <th>close</th>\n",
              "      <th>Volume ETH</th>\n",
              "    </tr>\n",
              "    <tr>\n",
              "      <th>date</th>\n",
              "      <th></th>\n",
              "      <th></th>\n",
              "      <th></th>\n",
              "      <th></th>\n",
              "      <th></th>\n",
              "    </tr>\n",
              "  </thead>\n",
              "  <tbody>\n",
              "    <tr>\n",
              "      <th>2022-01-10 23:00:00</th>\n",
              "      <td>3062.73</td>\n",
              "      <td>3088.01</td>\n",
              "      <td>3054.06</td>\n",
              "      <td>3082.68</td>\n",
              "      <td>9189.4677</td>\n",
              "    </tr>\n",
              "    <tr>\n",
              "      <th>2022-01-10 22:00:00</th>\n",
              "      <td>3074.65</td>\n",
              "      <td>3084.96</td>\n",
              "      <td>3056.33</td>\n",
              "      <td>3062.73</td>\n",
              "      <td>6294.9157</td>\n",
              "    </tr>\n",
              "    <tr>\n",
              "      <th>2022-01-10 21:00:00</th>\n",
              "      <td>3082.68</td>\n",
              "      <td>3096.15</td>\n",
              "      <td>3068.12</td>\n",
              "      <td>3074.65</td>\n",
              "      <td>13234.7443</td>\n",
              "    </tr>\n",
              "    <tr>\n",
              "      <th>2022-01-10 20:00:00</th>\n",
              "      <td>3029.75</td>\n",
              "      <td>3088.00</td>\n",
              "      <td>3019.17</td>\n",
              "      <td>3082.68</td>\n",
              "      <td>15604.1474</td>\n",
              "    </tr>\n",
              "    <tr>\n",
              "      <th>2022-01-10 19:00:00</th>\n",
              "      <td>3042.90</td>\n",
              "      <td>3056.28</td>\n",
              "      <td>3020.21</td>\n",
              "      <td>3029.75</td>\n",
              "      <td>10499.1698</td>\n",
              "    </tr>\n",
              "    <tr>\n",
              "      <th>...</th>\n",
              "      <td>...</td>\n",
              "      <td>...</td>\n",
              "      <td>...</td>\n",
              "      <td>...</td>\n",
              "      <td>...</td>\n",
              "    </tr>\n",
              "    <tr>\n",
              "      <th>2017-08-17 08:00:00</th>\n",
              "      <td>307.96</td>\n",
              "      <td>309.97</td>\n",
              "      <td>307.00</td>\n",
              "      <td>308.62</td>\n",
              "      <td>150.7500</td>\n",
              "    </tr>\n",
              "    <tr>\n",
              "      <th>2017-08-17 07:00:00</th>\n",
              "      <td>302.68</td>\n",
              "      <td>307.96</td>\n",
              "      <td>302.60</td>\n",
              "      <td>307.96</td>\n",
              "      <td>753.1900</td>\n",
              "    </tr>\n",
              "    <tr>\n",
              "      <th>2017-08-17 06:00:00</th>\n",
              "      <td>303.10</td>\n",
              "      <td>304.44</td>\n",
              "      <td>301.90</td>\n",
              "      <td>302.68</td>\n",
              "      <td>302.5100</td>\n",
              "    </tr>\n",
              "    <tr>\n",
              "      <th>2017-08-17 05:00:00</th>\n",
              "      <td>301.61</td>\n",
              "      <td>303.28</td>\n",
              "      <td>300.00</td>\n",
              "      <td>303.10</td>\n",
              "      <td>377.6700</td>\n",
              "    </tr>\n",
              "    <tr>\n",
              "      <th>2017-08-17 04:00:00</th>\n",
              "      <td>652.74</td>\n",
              "      <td>652.74</td>\n",
              "      <td>298.00</td>\n",
              "      <td>300.79</td>\n",
              "      <td>122.5200</td>\n",
              "    </tr>\n",
              "  </tbody>\n",
              "</table>\n",
              "<p>41215 rows × 5 columns</p>\n",
              "</div>\n",
              "      <button class=\"colab-df-convert\" onclick=\"convertToInteractive('df-0333d4fb-628c-46a7-942a-d8b00c8f4220')\"\n",
              "              title=\"Convert this dataframe to an interactive table.\"\n",
              "              style=\"display:none;\">\n",
              "        \n",
              "  <svg xmlns=\"http://www.w3.org/2000/svg\" height=\"24px\"viewBox=\"0 0 24 24\"\n",
              "       width=\"24px\">\n",
              "    <path d=\"M0 0h24v24H0V0z\" fill=\"none\"/>\n",
              "    <path d=\"M18.56 5.44l.94 2.06.94-2.06 2.06-.94-2.06-.94-.94-2.06-.94 2.06-2.06.94zm-11 1L8.5 8.5l.94-2.06 2.06-.94-2.06-.94L8.5 2.5l-.94 2.06-2.06.94zm10 10l.94 2.06.94-2.06 2.06-.94-2.06-.94-.94-2.06-.94 2.06-2.06.94z\"/><path d=\"M17.41 7.96l-1.37-1.37c-.4-.4-.92-.59-1.43-.59-.52 0-1.04.2-1.43.59L10.3 9.45l-7.72 7.72c-.78.78-.78 2.05 0 2.83L4 21.41c.39.39.9.59 1.41.59.51 0 1.02-.2 1.41-.59l7.78-7.78 2.81-2.81c.8-.78.8-2.07 0-2.86zM5.41 20L4 18.59l7.72-7.72 1.47 1.35L5.41 20z\"/>\n",
              "  </svg>\n",
              "      </button>\n",
              "      \n",
              "  <style>\n",
              "    .colab-df-container {\n",
              "      display:flex;\n",
              "      flex-wrap:wrap;\n",
              "      gap: 12px;\n",
              "    }\n",
              "\n",
              "    .colab-df-convert {\n",
              "      background-color: #E8F0FE;\n",
              "      border: none;\n",
              "      border-radius: 50%;\n",
              "      cursor: pointer;\n",
              "      display: none;\n",
              "      fill: #1967D2;\n",
              "      height: 32px;\n",
              "      padding: 0 0 0 0;\n",
              "      width: 32px;\n",
              "    }\n",
              "\n",
              "    .colab-df-convert:hover {\n",
              "      background-color: #E2EBFA;\n",
              "      box-shadow: 0px 1px 2px rgba(60, 64, 67, 0.3), 0px 1px 3px 1px rgba(60, 64, 67, 0.15);\n",
              "      fill: #174EA6;\n",
              "    }\n",
              "\n",
              "    [theme=dark] .colab-df-convert {\n",
              "      background-color: #3B4455;\n",
              "      fill: #D2E3FC;\n",
              "    }\n",
              "\n",
              "    [theme=dark] .colab-df-convert:hover {\n",
              "      background-color: #434B5C;\n",
              "      box-shadow: 0px 1px 3px 1px rgba(0, 0, 0, 0.15);\n",
              "      filter: drop-shadow(0px 1px 2px rgba(0, 0, 0, 0.3));\n",
              "      fill: #FFFFFF;\n",
              "    }\n",
              "  </style>\n",
              "\n",
              "      <script>\n",
              "        const buttonEl =\n",
              "          document.querySelector('#df-0333d4fb-628c-46a7-942a-d8b00c8f4220 button.colab-df-convert');\n",
              "        buttonEl.style.display =\n",
              "          google.colab.kernel.accessAllowed ? 'block' : 'none';\n",
              "\n",
              "        async function convertToInteractive(key) {\n",
              "          const element = document.querySelector('#df-0333d4fb-628c-46a7-942a-d8b00c8f4220');\n",
              "          const dataTable =\n",
              "            await google.colab.kernel.invokeFunction('convertToInteractive',\n",
              "                                                     [key], {});\n",
              "          if (!dataTable) return;\n",
              "\n",
              "          const docLinkHtml = 'Like what you see? Visit the ' +\n",
              "            '<a target=\"_blank\" href=https://colab.research.google.com/notebooks/data_table.ipynb>data table notebook</a>'\n",
              "            + ' to learn more about interactive tables.';\n",
              "          element.innerHTML = '';\n",
              "          dataTable['output_type'] = 'display_data';\n",
              "          await google.colab.output.renderOutput(dataTable, element);\n",
              "          const docLink = document.createElement('div');\n",
              "          docLink.innerHTML = docLinkHtml;\n",
              "          element.appendChild(docLink);\n",
              "        }\n",
              "      </script>\n",
              "    </div>\n",
              "  </div>\n",
              "  "
            ],
            "text/plain": [
              "0                       open     high      low    close  Volume ETH\n",
              "date                                                               \n",
              "2022-01-10 23:00:00  3062.73  3088.01  3054.06  3082.68   9189.4677\n",
              "2022-01-10 22:00:00  3074.65  3084.96  3056.33  3062.73   6294.9157\n",
              "2022-01-10 21:00:00  3082.68  3096.15  3068.12  3074.65  13234.7443\n",
              "2022-01-10 20:00:00  3029.75  3088.00  3019.17  3082.68  15604.1474\n",
              "2022-01-10 19:00:00  3042.90  3056.28  3020.21  3029.75  10499.1698\n",
              "...                      ...      ...      ...      ...         ...\n",
              "2017-08-17 08:00:00   307.96   309.97   307.00   308.62    150.7500\n",
              "2017-08-17 07:00:00   302.68   307.96   302.60   307.96    753.1900\n",
              "2017-08-17 06:00:00   303.10   304.44   301.90   302.68    302.5100\n",
              "2017-08-17 05:00:00   301.61   303.28   300.00   303.10    377.6700\n",
              "2017-08-17 04:00:00   652.74   652.74   298.00   300.79    122.5200\n",
              "\n",
              "[41215 rows x 5 columns]"
            ]
          },
          "metadata": {},
          "execution_count": 6
        }
      ]
    },
    {
      "cell_type": "code",
      "source": [
        "#Creating daily and weekly resampled target variable\n",
        "target_day = df_d['close'].resample('D').mean()\n",
        "target_week = df_d['close'].resample('W').mean()"
      ],
      "metadata": {
        "id": "5-WL5d-K_WFL"
      },
      "execution_count": 190,
      "outputs": []
    },
    {
      "cell_type": "code",
      "source": [
        "def convert_matrix(data, step_size):\n",
        "   X=list()\n",
        "   Y=list()\n",
        "   for i in range(len(data)-step_size):\n",
        "    d=i+step_size  \n",
        "    X.append(data[i:d,])\n",
        "    Y.append(data[d,])\n",
        "   return np.array(X), np.array(Y)"
      ],
      "metadata": {
        "id": "lVP4Olopi3kQ"
      },
      "execution_count": 909,
      "outputs": []
    },
    {
      "cell_type": "code",
      "source": [
        "#create numpy.ndarray\n",
        "def minmaxscaler(data):\n",
        "  target= data.values \n",
        "  target = np.reshape(target, (-1, 1)) #LTSM requires more input features compared to RNN or DNN\n",
        "  scaler = MinMaxScaler(feature_range=(0, 1))#LTSM is senstive to the scale of features\n",
        "  target = scaler.fit_transform(target)\n",
        "  return target"
      ],
      "metadata": {
        "id": "kpNC6ysQi9SF"
      },
      "execution_count": 910,
      "outputs": []
    },
    {
      "cell_type": "code",
      "source": [
        "#Function to split the data into training and test data\n",
        "def train_test_split(data, ratio):\n",
        "    train_size = int(len(data) * ratio)\n",
        "    train, test = data[0:train_size], data[train_size:]\n",
        "    return train, test"
      ],
      "metadata": {
        "id": "W2aWuyN3j1EY"
      },
      "execution_count": 911,
      "outputs": []
    },
    {
      "cell_type": "code",
      "source": [
        "def lstm_model_daily(data, step_size):\n",
        "\n",
        "  target = data.values \n",
        "  target = np.reshape(target, (-1, 1))\n",
        "  scaler = MinMaxScaler(feature_range=(0, 1))\n",
        "  target = scaler.fit_transform(target)\n",
        "\n",
        "  train, test = train_test_split(target, 0.8)\n",
        "\n",
        "  X_train, y_train = convert_matrix(train, step_size)\n",
        "  X_test, y_test = convert_matrix(test, step_size)\n",
        "\n",
        "  X_train = X_train.reshape(X_train.shape[0], 1, X_train.shape[1])\n",
        "  X_test = X_test.reshape(X_test.shape[0], 1, X_test.shape[1])\n",
        "\n",
        "  model = Sequential()\n",
        "  model.add(LSTM(units = 200, activation='relu', return_sequences=True,  input_shape=(X_train.shape[1], step_size)))\n",
        "  model.add(Dropout(0.2)) \n",
        "  model.add(LSTM(units = 150, activation = 'relu'))\n",
        "  model.add(Dense(units =1))\n",
        "  model.compile(optimizer='adam', loss='mean_squared_error')\n",
        "\n",
        "  model.fit(X_train, y_train, epochs=100, batch_size=100, validation_data=(X_test, y_test), verbose=1)\n",
        "\n",
        "  train_predict = model.predict(X_train)\n",
        "  test_predict = model.predict(X_test)\n",
        "\n",
        "  train_predict = scaler.inverse_transform(train_predict)\n",
        "  test_predict = scaler.inverse_transform(test_predict)\n",
        "  y_train = scaler.inverse_transform(y_train)\n",
        "  y_test = scaler.inverse_transform(y_test)\n",
        "\n",
        "  rmse_train = np.sqrt(mean_squared_error(y_trains, train_predicts))\n",
        "  rmse_test = np.sqrt(mean_squared_error(y_tests, test_predicts))\n",
        "\n",
        "  # x = len(test_predict)\n",
        "  # predict_index = test.index[-x:]\n",
        "  # df_prediction = pd.DataFrame(test_predict, index = predict_index, columns = ['prediction'])\n",
        "\n",
        "  return rmse_train, rmse_test, test_predict"
      ],
      "metadata": {
        "id": "vVdv2CZP8kMP"
      },
      "execution_count": 919,
      "outputs": []
    },
    {
      "cell_type": "code",
      "source": [
        "rmse_train, rmse_test, test_predict = lstm_model_daily(target_day, 100)"
      ],
      "metadata": {
        "colab": {
          "base_uri": "https://localhost:8080/"
        },
        "id": "mZSHdC6q8kDG",
        "outputId": "cfa13460-ce93-44d2-ecdb-e2390e8e556e"
      },
      "execution_count": 920,
      "outputs": [
        {
          "output_type": "stream",
          "name": "stdout",
          "text": [
            "Epoch 1/100\n",
            "12/12 [==============================] - 7s 102ms/step - loss: 0.0054 - val_loss: 0.0383\n",
            "Epoch 2/100\n",
            "12/12 [==============================] - 0s 32ms/step - loss: 0.0024 - val_loss: 0.0240\n",
            "Epoch 3/100\n",
            "12/12 [==============================] - 0s 38ms/step - loss: 0.0015 - val_loss: 0.1248\n",
            "Epoch 4/100\n",
            "12/12 [==============================] - 0s 29ms/step - loss: 7.1845e-04 - val_loss: 0.4378\n",
            "Epoch 5/100\n",
            "12/12 [==============================] - 0s 31ms/step - loss: 5.1677e-04 - val_loss: 0.7770\n",
            "Epoch 6/100\n",
            "12/12 [==============================] - 0s 26ms/step - loss: 4.4213e-04 - val_loss: 0.1769\n",
            "Epoch 7/100\n",
            "12/12 [==============================] - 0s 33ms/step - loss: 3.5101e-04 - val_loss: 0.1572\n",
            "Epoch 8/100\n",
            "12/12 [==============================] - 0s 39ms/step - loss: 3.2932e-04 - val_loss: 0.0862\n",
            "Epoch 9/100\n",
            "12/12 [==============================] - 0s 27ms/step - loss: 2.7697e-04 - val_loss: 0.0702\n",
            "Epoch 10/100\n",
            "12/12 [==============================] - 0s 33ms/step - loss: 2.5052e-04 - val_loss: 0.0442\n",
            "Epoch 11/100\n",
            "12/12 [==============================] - 0s 29ms/step - loss: 2.4226e-04 - val_loss: 0.0516\n",
            "Epoch 12/100\n",
            "12/12 [==============================] - 0s 33ms/step - loss: 2.1108e-04 - val_loss: 0.0264\n",
            "Epoch 13/100\n",
            "12/12 [==============================] - 0s 36ms/step - loss: 2.1171e-04 - val_loss: 0.0186\n",
            "Epoch 14/100\n",
            "12/12 [==============================] - 0s 40ms/step - loss: 2.0304e-04 - val_loss: 0.0094\n",
            "Epoch 15/100\n",
            "12/12 [==============================] - 0s 34ms/step - loss: 1.8293e-04 - val_loss: 0.0084\n",
            "Epoch 16/100\n",
            "12/12 [==============================] - 0s 35ms/step - loss: 1.5905e-04 - val_loss: 0.0099\n",
            "Epoch 17/100\n",
            "12/12 [==============================] - 0s 28ms/step - loss: 1.9676e-04 - val_loss: 0.0049\n",
            "Epoch 18/100\n",
            "12/12 [==============================] - 0s 34ms/step - loss: 1.7317e-04 - val_loss: 0.0051\n",
            "Epoch 19/100\n",
            "12/12 [==============================] - 0s 35ms/step - loss: 1.6936e-04 - val_loss: 0.0047\n",
            "Epoch 20/100\n",
            "12/12 [==============================] - 0s 27ms/step - loss: 1.6501e-04 - val_loss: 0.0058\n",
            "Epoch 21/100\n",
            "12/12 [==============================] - 0s 35ms/step - loss: 1.6460e-04 - val_loss: 0.0057\n",
            "Epoch 22/100\n",
            "12/12 [==============================] - 0s 32ms/step - loss: 1.5865e-04 - val_loss: 0.0048\n",
            "Epoch 23/100\n",
            "12/12 [==============================] - 0s 37ms/step - loss: 1.7788e-04 - val_loss: 0.0038\n",
            "Epoch 24/100\n",
            "12/12 [==============================] - 1s 44ms/step - loss: 1.5531e-04 - val_loss: 0.0062\n",
            "Epoch 25/100\n",
            "12/12 [==============================] - 1s 53ms/step - loss: 1.5076e-04 - val_loss: 0.0085\n",
            "Epoch 26/100\n",
            "12/12 [==============================] - 1s 53ms/step - loss: 1.3741e-04 - val_loss: 0.0079\n",
            "Epoch 27/100\n",
            "12/12 [==============================] - 1s 43ms/step - loss: 1.5027e-04 - val_loss: 0.0266\n",
            "Epoch 28/100\n",
            "12/12 [==============================] - 0s 29ms/step - loss: 1.4742e-04 - val_loss: 0.0226\n",
            "Epoch 29/100\n",
            "12/12 [==============================] - 0s 29ms/step - loss: 1.4792e-04 - val_loss: 0.0092\n",
            "Epoch 30/100\n",
            "12/12 [==============================] - 0s 27ms/step - loss: 1.3355e-04 - val_loss: 0.0130\n",
            "Epoch 31/100\n",
            "12/12 [==============================] - 0s 25ms/step - loss: 1.3909e-04 - val_loss: 0.0113\n",
            "Epoch 32/100\n",
            "12/12 [==============================] - 0s 35ms/step - loss: 1.3514e-04 - val_loss: 0.0099\n",
            "Epoch 33/100\n",
            "12/12 [==============================] - 0s 30ms/step - loss: 1.2472e-04 - val_loss: 0.0109\n",
            "Epoch 34/100\n",
            "12/12 [==============================] - 0s 29ms/step - loss: 1.2371e-04 - val_loss: 0.0104\n",
            "Epoch 35/100\n",
            "12/12 [==============================] - 0s 36ms/step - loss: 1.2571e-04 - val_loss: 0.0133\n",
            "Epoch 36/100\n",
            "12/12 [==============================] - 0s 30ms/step - loss: 1.4366e-04 - val_loss: 0.0182\n",
            "Epoch 37/100\n",
            "12/12 [==============================] - 0s 29ms/step - loss: 1.2387e-04 - val_loss: 0.0133\n",
            "Epoch 38/100\n",
            "12/12 [==============================] - 0s 35ms/step - loss: 1.2689e-04 - val_loss: 0.0071\n",
            "Epoch 39/100\n",
            "12/12 [==============================] - 0s 21ms/step - loss: 1.2939e-04 - val_loss: 0.0131\n",
            "Epoch 40/100\n",
            "12/12 [==============================] - 0s 33ms/step - loss: 1.0750e-04 - val_loss: 0.0125\n",
            "Epoch 41/100\n",
            "12/12 [==============================] - 0s 27ms/step - loss: 1.2875e-04 - val_loss: 0.0032\n",
            "Epoch 42/100\n",
            "12/12 [==============================] - 0s 28ms/step - loss: 1.2781e-04 - val_loss: 0.0151\n",
            "Epoch 43/100\n",
            "12/12 [==============================] - 0s 33ms/step - loss: 1.3410e-04 - val_loss: 0.0189\n",
            "Epoch 44/100\n",
            "12/12 [==============================] - 0s 40ms/step - loss: 1.1778e-04 - val_loss: 0.0228\n",
            "Epoch 45/100\n",
            "12/12 [==============================] - 0s 29ms/step - loss: 1.1813e-04 - val_loss: 0.0126\n",
            "Epoch 46/100\n",
            "12/12 [==============================] - 0s 40ms/step - loss: 1.0509e-04 - val_loss: 0.0048\n",
            "Epoch 47/100\n",
            "12/12 [==============================] - 0s 37ms/step - loss: 1.2909e-04 - val_loss: 0.0167\n",
            "Epoch 48/100\n",
            "12/12 [==============================] - 1s 43ms/step - loss: 1.2534e-04 - val_loss: 0.0257\n",
            "Epoch 49/100\n",
            "12/12 [==============================] - 1s 44ms/step - loss: 1.1845e-04 - val_loss: 0.0147\n",
            "Epoch 50/100\n",
            "12/12 [==============================] - 1s 46ms/step - loss: 1.1483e-04 - val_loss: 0.0063\n",
            "Epoch 51/100\n",
            "12/12 [==============================] - 0s 33ms/step - loss: 1.0574e-04 - val_loss: 0.0077\n",
            "Epoch 52/100\n",
            "12/12 [==============================] - 1s 42ms/step - loss: 9.6616e-05 - val_loss: 0.0079\n",
            "Epoch 53/100\n",
            "12/12 [==============================] - 1s 46ms/step - loss: 1.0516e-04 - val_loss: 0.0121\n",
            "Epoch 54/100\n",
            "12/12 [==============================] - 0s 36ms/step - loss: 1.0205e-04 - val_loss: 0.0054\n",
            "Epoch 55/100\n",
            "12/12 [==============================] - 0s 38ms/step - loss: 9.6899e-05 - val_loss: 0.0116\n",
            "Epoch 56/100\n",
            "12/12 [==============================] - 0s 40ms/step - loss: 9.9440e-05 - val_loss: 0.0069\n",
            "Epoch 57/100\n",
            "12/12 [==============================] - 0s 31ms/step - loss: 1.0203e-04 - val_loss: 0.0086\n",
            "Epoch 58/100\n",
            "12/12 [==============================] - 0s 29ms/step - loss: 1.1043e-04 - val_loss: 0.0137\n",
            "Epoch 59/100\n",
            "12/12 [==============================] - 0s 30ms/step - loss: 9.0374e-05 - val_loss: 0.0077\n",
            "Epoch 60/100\n",
            "12/12 [==============================] - 0s 28ms/step - loss: 9.8386e-05 - val_loss: 0.0060\n",
            "Epoch 61/100\n",
            "12/12 [==============================] - 0s 29ms/step - loss: 9.8297e-05 - val_loss: 0.0071\n",
            "Epoch 62/100\n",
            "12/12 [==============================] - 0s 29ms/step - loss: 9.0231e-05 - val_loss: 0.0128\n",
            "Epoch 63/100\n",
            "12/12 [==============================] - 0s 27ms/step - loss: 9.7364e-05 - val_loss: 0.0110\n",
            "Epoch 64/100\n",
            "12/12 [==============================] - 0s 35ms/step - loss: 1.0309e-04 - val_loss: 0.0158\n",
            "Epoch 65/100\n",
            "12/12 [==============================] - 1s 44ms/step - loss: 1.0262e-04 - val_loss: 0.0106\n",
            "Epoch 66/100\n",
            "12/12 [==============================] - 0s 39ms/step - loss: 8.7349e-05 - val_loss: 0.0066\n",
            "Epoch 67/100\n",
            "12/12 [==============================] - 0s 36ms/step - loss: 8.2872e-05 - val_loss: 0.0130\n",
            "Epoch 68/100\n",
            "12/12 [==============================] - 0s 36ms/step - loss: 8.7324e-05 - val_loss: 0.0058\n",
            "Epoch 69/100\n",
            "12/12 [==============================] - 0s 35ms/step - loss: 9.9159e-05 - val_loss: 0.0111\n",
            "Epoch 70/100\n",
            "12/12 [==============================] - 0s 36ms/step - loss: 9.1266e-05 - val_loss: 0.0062\n",
            "Epoch 71/100\n",
            "12/12 [==============================] - 0s 36ms/step - loss: 8.7834e-05 - val_loss: 0.0048\n",
            "Epoch 72/100\n",
            "12/12 [==============================] - 0s 36ms/step - loss: 9.9760e-05 - val_loss: 0.0169\n",
            "Epoch 73/100\n",
            "12/12 [==============================] - 0s 34ms/step - loss: 1.0704e-04 - val_loss: 0.0061\n",
            "Epoch 74/100\n",
            "12/12 [==============================] - 0s 37ms/step - loss: 1.0948e-04 - val_loss: 0.0123\n",
            "Epoch 75/100\n",
            "12/12 [==============================] - 0s 39ms/step - loss: 9.4446e-05 - val_loss: 0.0122\n",
            "Epoch 76/100\n",
            "12/12 [==============================] - 0s 36ms/step - loss: 8.8972e-05 - val_loss: 0.0049\n",
            "Epoch 77/100\n",
            "12/12 [==============================] - 0s 39ms/step - loss: 8.8510e-05 - val_loss: 0.0129\n",
            "Epoch 78/100\n",
            "12/12 [==============================] - 0s 33ms/step - loss: 8.3229e-05 - val_loss: 0.0097\n",
            "Epoch 79/100\n",
            "12/12 [==============================] - 0s 37ms/step - loss: 9.0810e-05 - val_loss: 0.0144\n",
            "Epoch 80/100\n",
            "12/12 [==============================] - 0s 34ms/step - loss: 8.1009e-05 - val_loss: 0.0157\n",
            "Epoch 81/100\n",
            "12/12 [==============================] - 0s 41ms/step - loss: 8.3961e-05 - val_loss: 0.0175\n",
            "Epoch 82/100\n",
            "12/12 [==============================] - 0s 37ms/step - loss: 7.2726e-05 - val_loss: 0.0209\n",
            "Epoch 83/100\n",
            "12/12 [==============================] - 0s 36ms/step - loss: 8.9312e-05 - val_loss: 0.0101\n",
            "Epoch 84/100\n",
            "12/12 [==============================] - 0s 33ms/step - loss: 9.7612e-05 - val_loss: 0.0143\n",
            "Epoch 85/100\n",
            "12/12 [==============================] - 0s 33ms/step - loss: 8.9641e-05 - val_loss: 0.0147\n",
            "Epoch 86/100\n",
            "12/12 [==============================] - 0s 40ms/step - loss: 7.3415e-05 - val_loss: 0.0181\n",
            "Epoch 87/100\n",
            "12/12 [==============================] - 0s 34ms/step - loss: 8.8951e-05 - val_loss: 0.0119\n",
            "Epoch 88/100\n",
            "12/12 [==============================] - 0s 40ms/step - loss: 9.2851e-05 - val_loss: 0.0200\n",
            "Epoch 89/100\n",
            "12/12 [==============================] - 1s 44ms/step - loss: 9.6746e-05 - val_loss: 0.0124\n",
            "Epoch 90/100\n",
            "12/12 [==============================] - 1s 43ms/step - loss: 8.1298e-05 - val_loss: 0.0174\n",
            "Epoch 91/100\n",
            "12/12 [==============================] - 0s 38ms/step - loss: 7.5872e-05 - val_loss: 0.0155\n",
            "Epoch 92/100\n",
            "12/12 [==============================] - 0s 42ms/step - loss: 7.9615e-05 - val_loss: 0.0186\n",
            "Epoch 93/100\n",
            "12/12 [==============================] - 0s 40ms/step - loss: 7.9621e-05 - val_loss: 0.0186\n",
            "Epoch 94/100\n",
            "12/12 [==============================] - 0s 34ms/step - loss: 7.8840e-05 - val_loss: 0.0163\n",
            "Epoch 95/100\n",
            "12/12 [==============================] - 0s 43ms/step - loss: 8.5560e-05 - val_loss: 0.0197\n",
            "Epoch 96/100\n",
            "12/12 [==============================] - 0s 39ms/step - loss: 7.4973e-05 - val_loss: 0.0129\n",
            "Epoch 97/100\n",
            "12/12 [==============================] - 0s 34ms/step - loss: 9.2800e-05 - val_loss: 0.0247\n",
            "Epoch 98/100\n",
            "12/12 [==============================] - 0s 37ms/step - loss: 7.6042e-05 - val_loss: 0.0088\n",
            "Epoch 99/100\n",
            "12/12 [==============================] - 0s 41ms/step - loss: 8.7511e-05 - val_loss: 0.0255\n",
            "Epoch 100/100\n",
            "12/12 [==============================] - 0s 34ms/step - loss: 8.6041e-05 - val_loss: 0.0132\n"
          ]
        }
      ]
    },
    {
      "cell_type": "code",
      "source": [
        "train, test = train_test_split(target_day, 0.8)\n",
        "\n",
        "x = len(test_predict)\n",
        "predict_index = test.index[-x:]\n",
        "df_prediction = pd.DataFrame(test_predict, index = predict_index, columns = ['prediction'])"
      ],
      "metadata": {
        "id": "HTn8qhIxBWl2"
      },
      "execution_count": 921,
      "outputs": []
    },
    {
      "cell_type": "code",
      "source": [
        "fig, ax = plt.subplots(figsize=(12, 8))\n",
        "ax.plot(test[-len(df_prediction):], label='actual')\n",
        "ax.plot(df_prediction['prediction'], label='prediction')\n",
        "ax.set_title('Actual vs. Prediction');\n",
        "plt.legend();\n",
        "print(\"RMSE:\",round(rmse_test,2))"
      ],
      "metadata": {
        "colab": {
          "base_uri": "https://localhost:8080/",
          "height": 516
        },
        "id": "yGq9BarG8j5j",
        "outputId": "e913bf81-6de9-41a7-9d04-946374680e90"
      },
      "execution_count": 926,
      "outputs": [
        {
          "output_type": "stream",
          "name": "stdout",
          "text": [
            "RMSE: 454.53\n"
          ]
        },
        {
          "output_type": "display_data",
          "data": {
            "image/png": "[encoded data removed]",
            "text/plain": [
              "<Figure size 864x576 with 1 Axes>"
            ]
          },
          "metadata": {
            "needs_background": "light"
          }
        }
      ]
    },
    {
      "cell_type": "code",
      "source": [
        ""
      ],
      "metadata": {
        "id": "1ByVF2B98jvS"
      },
      "execution_count": 903,
      "outputs": []
    },
    {
      "cell_type": "code",
      "source": [
        ""
      ],
      "metadata": {
        "id": "dVNjNwMZ8jd5"
      },
      "execution_count": 903,
      "outputs": []
    },
    {
      "cell_type": "code",
      "source": [
        "train, test = train_test_split(target_weeks, 0.90)"
      ],
      "metadata": {
        "id": "Z8cVwt23j2Hf"
      },
      "execution_count": 903,
      "outputs": []
    },
    {
      "cell_type": "code",
      "source": [
        "step_size = 15\n",
        "X_train, y_train = convert2matrix(train, step_size)\n",
        "X_test, y_test = convert2matrix(test, step_size)"
      ],
      "metadata": {
        "id": "9CSG54awLOD5"
      },
      "execution_count": 566,
      "outputs": []
    },
    {
      "cell_type": "code",
      "source": [
        ""
      ],
      "metadata": {
        "id": "9adUCdvQiiRz"
      },
      "execution_count": 566,
      "outputs": []
    },
    {
      "cell_type": "code",
      "source": [
        "X_train = X_train.reshape(X_train.shape[0], 1, X_train.shape[1])\n",
        "X_test = X_test.reshape(X_test.shape[0], 1, X_test.shape[1])"
      ],
      "metadata": {
        "id": "-jv9b_sCLPwA"
      },
      "execution_count": 567,
      "outputs": []
    },
    {
      "cell_type": "code",
      "source": [
        ""
      ],
      "metadata": {
        "id": "n4SKQJCUfIjg"
      },
      "execution_count": 567,
      "outputs": []
    },
    {
      "cell_type": "code",
      "source": [
        "model = Sequential()\n",
        "model.add(LSTM(units = 100, activation='relu', return_sequences=True,  input_shape=(X_train.shape[1], step_size)))\n",
        "model.add(Dropout(0.2)) \n",
        "model.add(LSTM(units = 100, activation = 'relu'))\n",
        "model.add(Dense(units =1))\n",
        "model.summary()"
      ],
      "metadata": {
        "colab": {
          "base_uri": "https://localhost:8080/"
        },
        "id": "qRSBcc3NLRVH",
        "outputId": "c82655bb-262e-4252-f80f-4742481dab63"
      },
      "execution_count": 568,
      "outputs": [
        {
          "output_type": "stream",
          "name": "stdout",
          "text": [
            "Model: \"sequential_49\"\n",
            "_________________________________________________________________\n",
            " Layer (type)                Output Shape              Param #   \n",
            "=================================================================\n",
            " lstm_115 (LSTM)             (None, 1, 100)            46400     \n",
            "                                                                 \n",
            " dropout_59 (Dropout)        (None, 1, 100)            0         \n",
            "                                                                 \n",
            " lstm_116 (LSTM)             (None, 100)               80400     \n",
            "                                                                 \n",
            " dense_45 (Dense)            (None, 1)                 101       \n",
            "                                                                 \n",
            "=================================================================\n",
            "Total params: 126,901\n",
            "Trainable params: 126,901\n",
            "Non-trainable params: 0\n",
            "_________________________________________________________________\n"
          ]
        }
      ]
    },
    {
      "cell_type": "code",
      "source": [
        "model.compile(optimizer='adam', loss='mean_squared_error')"
      ],
      "metadata": {
        "id": "Gzb9O5iKRjGM"
      },
      "execution_count": 569,
      "outputs": []
    },
    {
      "cell_type": "code",
      "source": [
        "history = model.fit(X_train, y_train, epochs=100, batch_size=40, validation_data=(X_test, y_test), verbose=1)"
      ],
      "metadata": {
        "id": "WZkEtEFnMCOG"
      },
      "execution_count": null,
      "outputs": []
    },
    {
      "cell_type": "code",
      "source": [
        "train_predict = model.predict(X_train)\n",
        "test_predict = model.predict(X_test)"
      ],
      "metadata": {
        "id": "Dmse80oiMPHH"
      },
      "execution_count": 571,
      "outputs": []
    },
    {
      "cell_type": "code",
      "source": [
        "train_predict.shape"
      ],
      "metadata": {
        "colab": {
          "base_uri": "https://localhost:8080/"
        },
        "id": "RXIbvwBlgR95",
        "outputId": "2686dd5a-36fd-4672-d81d-2de0adeb2852"
      },
      "execution_count": 572,
      "outputs": [
        {
          "output_type": "execute_result",
          "data": {
            "text/plain": [
              "(192, 1)"
            ]
          },
          "metadata": {},
          "execution_count": 572
        }
      ]
    },
    {
      "cell_type": "code",
      "source": [
        "y_train.shape"
      ],
      "metadata": {
        "colab": {
          "base_uri": "https://localhost:8080/"
        },
        "id": "XS6Wog0hgaD2",
        "outputId": "9168ed0f-242e-4a32-abcb-0d8667e800a4"
      },
      "execution_count": 573,
      "outputs": [
        {
          "output_type": "execute_result",
          "data": {
            "text/plain": [
              "(192, 1)"
            ]
          },
          "metadata": {},
          "execution_count": 573
        }
      ]
    },
    {
      "cell_type": "code",
      "source": [
        "train_predicts = scaler.inverse_transform(train_predict)\n",
        "test_predicts = scaler.inverse_transform(test_predict)\n",
        "y_trains = scaler.inverse_transform(y_train)\n",
        "y_tests = scaler.inverse_transform(y_test)"
      ],
      "metadata": {
        "id": "oKsS690aNsG8"
      },
      "execution_count": 574,
      "outputs": []
    },
    {
      "cell_type": "code",
      "source": [
        "np.sqrt(mean_squared_error(y_trains, train_predicts))"
      ],
      "metadata": {
        "colab": {
          "base_uri": "https://localhost:8080/"
        },
        "id": "U3CioLb4N4nw",
        "outputId": "1f7c9804-16b4-435c-b9a2-c61054244c03"
      },
      "execution_count": 575,
      "outputs": [
        {
          "output_type": "execute_result",
          "data": {
            "text/plain": [
              "141.10260302554698"
            ]
          },
          "metadata": {},
          "execution_count": 575
        }
      ]
    },
    {
      "cell_type": "code",
      "source": [
        "np.sqrt(mean_squared_error(y_tests, test_predicts))"
      ],
      "metadata": {
        "colab": {
          "base_uri": "https://localhost:8080/"
        },
        "id": "TMJvaJS7OCnw",
        "outputId": "e7c13ad0-7982-40cb-95f5-94f41054df85"
      },
      "execution_count": 576,
      "outputs": [
        {
          "output_type": "execute_result",
          "data": {
            "text/plain": [
              "378.6931235760668"
            ]
          },
          "metadata": {},
          "execution_count": 576
        }
      ]
    },
    {
      "cell_type": "code",
      "source": [
        "y_tests"
      ],
      "metadata": {
        "colab": {
          "base_uri": "https://localhost:8080/"
        },
        "id": "VfI_OiYJO6eu",
        "outputId": "e11f8cb0-1bf4-4814-f724-b96641035dbe"
      },
      "execution_count": 577,
      "outputs": [
        {
          "output_type": "execute_result",
          "data": {
            "text/plain": [
              "array([[4289.06857143],\n",
              "       [4235.84142857],\n",
              "       [4385.48142857],\n",
              "       [4187.69285714],\n",
              "       [3911.08571429],\n",
              "       [4036.36428571],\n",
              "       [3777.06857143],\n",
              "       [3418.65714286],\n",
              "       [3082.68      ]])"
            ]
          },
          "metadata": {},
          "execution_count": 577
        }
      ]
    },
    {
      "cell_type": "code",
      "source": [
        "test_predicts"
      ],
      "metadata": {
        "colab": {
          "base_uri": "https://localhost:8080/"
        },
        "id": "t7rZCakWkoJS",
        "outputId": "a256b693-3296-4fc7-8f54-53c0f4639c80"
      },
      "execution_count": 578,
      "outputs": [
        {
          "output_type": "execute_result",
          "data": {
            "text/plain": [
              "array([[4218.2417],\n",
              "       [4060.3389],\n",
              "       [3899.7036],\n",
              "       [3763.6335],\n",
              "       [3499.182 ],\n",
              "       [3313.0432],\n",
              "       [3401.8809],\n",
              "       [3344.9795],\n",
              "       [3082.711 ]], dtype=float32)"
            ]
          },
          "metadata": {},
          "execution_count": 578
        }
      ]
    },
    {
      "cell_type": "code",
      "source": [
        "x = len(test_predict)"
      ],
      "metadata": {
        "id": "bT9yBb_iqqzS"
      },
      "execution_count": 579,
      "outputs": []
    },
    {
      "cell_type": "code",
      "source": [
        "trainn, testt = train_test_split(target_week, 0.95)"
      ],
      "metadata": {
        "id": "CTQlM_MfkpuS"
      },
      "execution_count": 613,
      "outputs": []
    },
    {
      "cell_type": "code",
      "source": [
        "testt"
      ],
      "metadata": {
        "colab": {
          "base_uri": "https://localhost:8080/"
        },
        "id": "5eL0kMojs_uu",
        "outputId": "f2e8355f-1571-4574-f716-a35c317b2bf4"
      },
      "execution_count": 614,
      "outputs": [
        {
          "output_type": "execute_result",
          "data": {
            "text/plain": [
              "date\n",
              "2021-10-31    4226.955714\n",
              "2021-11-07    4521.402857\n",
              "2021-11-14    4689.190000\n",
              "2021-11-21    4289.068571\n",
              "2021-11-28    4235.841429\n",
              "2021-12-05    4385.481429\n",
              "2021-12-12    4187.692857\n",
              "2021-12-19    3911.085714\n",
              "2021-12-26    4036.364286\n",
              "2022-01-02    3777.068571\n",
              "2022-01-09    3418.657143\n",
              "2022-01-16    3082.680000\n",
              "Freq: W-SUN, Name: close, dtype: float64"
            ]
          },
          "metadata": {},
          "execution_count": 614
        }
      ]
    },
    {
      "cell_type": "code",
      "source": [
        "predict_index = testt.index[-x:]"
      ],
      "metadata": {
        "id": "ggYLxy4yq7tH"
      },
      "execution_count": 582,
      "outputs": []
    },
    {
      "cell_type": "code",
      "source": [
        "df_prediction = pd.DataFrame(test_predicts, index = predict_index, columns = ['prediction'])"
      ],
      "metadata": {
        "id": "ManQyxlQrTRb"
      },
      "execution_count": 583,
      "outputs": []
    },
    {
      "cell_type": "code",
      "source": [
        "df_prediction"
      ],
      "metadata": {
        "colab": {
          "base_uri": "https://localhost:8080/",
          "height": 363
        },
        "id": "RJFvuyxDrfwp",
        "outputId": "b0ed0cf2-2835-4a91-d44b-d38ee078601f"
      },
      "execution_count": 584,
      "outputs": [
        {
          "output_type": "execute_result",
          "data": {
            "text/html": [
              "\n",
              "  <div id=\"df-fcb06915-df41-44b9-b2e4-3d5b9f9a8ab4\">\n",
              "    <div class=\"colab-df-container\">\n",
              "      <div>\n",
              "<style scoped>\n",
              "    .dataframe tbody tr th:only-of-type {\n",
              "        vertical-align: middle;\n",
              "    }\n",
              "\n",
              "    .dataframe tbody tr th {\n",
              "        vertical-align: top;\n",
              "    }\n",
              "\n",
              "    .dataframe thead th {\n",
              "        text-align: right;\n",
              "    }\n",
              "</style>\n",
              "<table border=\"1\" class=\"dataframe\">\n",
              "  <thead>\n",
              "    <tr style=\"text-align: right;\">\n",
              "      <th></th>\n",
              "      <th>prediction</th>\n",
              "    </tr>\n",
              "    <tr>\n",
              "      <th>date</th>\n",
              "      <th></th>\n",
              "    </tr>\n",
              "  </thead>\n",
              "  <tbody>\n",
              "    <tr>\n",
              "      <th>2021-11-21</th>\n",
              "      <td>4218.241699</td>\n",
              "    </tr>\n",
              "    <tr>\n",
              "      <th>2021-11-28</th>\n",
              "      <td>4060.338867</td>\n",
              "    </tr>\n",
              "    <tr>\n",
              "      <th>2021-12-05</th>\n",
              "      <td>3899.703613</td>\n",
              "    </tr>\n",
              "    <tr>\n",
              "      <th>2021-12-12</th>\n",
              "      <td>3763.633545</td>\n",
              "    </tr>\n",
              "    <tr>\n",
              "      <th>2021-12-19</th>\n",
              "      <td>3499.181885</td>\n",
              "    </tr>\n",
              "    <tr>\n",
              "      <th>2021-12-26</th>\n",
              "      <td>3313.043213</td>\n",
              "    </tr>\n",
              "    <tr>\n",
              "      <th>2022-01-02</th>\n",
              "      <td>3401.880859</td>\n",
              "    </tr>\n",
              "    <tr>\n",
              "      <th>2022-01-09</th>\n",
              "      <td>3344.979492</td>\n",
              "    </tr>\n",
              "    <tr>\n",
              "      <th>2022-01-16</th>\n",
              "      <td>3082.710938</td>\n",
              "    </tr>\n",
              "  </tbody>\n",
              "</table>\n",
              "</div>\n",
              "      <button class=\"colab-df-convert\" onclick=\"convertToInteractive('df-fcb06915-df41-44b9-b2e4-3d5b9f9a8ab4')\"\n",
              "              title=\"Convert this dataframe to an interactive table.\"\n",
              "              style=\"display:none;\">\n",
              "        \n",
              "  <svg xmlns=\"http://www.w3.org/2000/svg\" height=\"24px\"viewBox=\"0 0 24 24\"\n",
              "       width=\"24px\">\n",
              "    <path d=\"M0 0h24v24H0V0z\" fill=\"none\"/>\n",
              "    <path d=\"M18.56 5.44l.94 2.06.94-2.06 2.06-.94-2.06-.94-.94-2.06-.94 2.06-2.06.94zm-11 1L8.5 8.5l.94-2.06 2.06-.94-2.06-.94L8.5 2.5l-.94 2.06-2.06.94zm10 10l.94 2.06.94-2.06 2.06-.94-2.06-.94-.94-2.06-.94 2.06-2.06.94z\"/><path d=\"M17.41 7.96l-1.37-1.37c-.4-.4-.92-.59-1.43-.59-.52 0-1.04.2-1.43.59L10.3 9.45l-7.72 7.72c-.78.78-.78 2.05 0 2.83L4 21.41c.39.39.9.59 1.41.59.51 0 1.02-.2 1.41-.59l7.78-7.78 2.81-2.81c.8-.78.8-2.07 0-2.86zM5.41 20L4 18.59l7.72-7.72 1.47 1.35L5.41 20z\"/>\n",
              "  </svg>\n",
              "      </button>\n",
              "      \n",
              "  <style>\n",
              "    .colab-df-container {\n",
              "      display:flex;\n",
              "      flex-wrap:wrap;\n",
              "      gap: 12px;\n",
              "    }\n",
              "\n",
              "    .colab-df-convert {\n",
              "      background-color: #E8F0FE;\n",
              "      border: none;\n",
              "      border-radius: 50%;\n",
              "      cursor: pointer;\n",
              "      display: none;\n",
              "      fill: #1967D2;\n",
              "      height: 32px;\n",
              "      padding: 0 0 0 0;\n",
              "      width: 32px;\n",
              "    }\n",
              "\n",
              "    .colab-df-convert:hover {\n",
              "      background-color: #E2EBFA;\n",
              "      box-shadow: 0px 1px 2px rgba(60, 64, 67, 0.3), 0px 1px 3px 1px rgba(60, 64, 67, 0.15);\n",
              "      fill: #174EA6;\n",
              "    }\n",
              "\n",
              "    [theme=dark] .colab-df-convert {\n",
              "      background-color: #3B4455;\n",
              "      fill: #D2E3FC;\n",
              "    }\n",
              "\n",
              "    [theme=dark] .colab-df-convert:hover {\n",
              "      background-color: #434B5C;\n",
              "      box-shadow: 0px 1px 3px 1px rgba(0, 0, 0, 0.15);\n",
              "      filter: drop-shadow(0px 1px 2px rgba(0, 0, 0, 0.3));\n",
              "      fill: #FFFFFF;\n",
              "    }\n",
              "  </style>\n",
              "\n",
              "      <script>\n",
              "        const buttonEl =\n",
              "          document.querySelector('#df-fcb06915-df41-44b9-b2e4-3d5b9f9a8ab4 button.colab-df-convert');\n",
              "        buttonEl.style.display =\n",
              "          google.colab.kernel.accessAllowed ? 'block' : 'none';\n",
              "\n",
              "        async function convertToInteractive(key) {\n",
              "          const element = document.querySelector('#df-fcb06915-df41-44b9-b2e4-3d5b9f9a8ab4');\n",
              "          const dataTable =\n",
              "            await google.colab.kernel.invokeFunction('convertToInteractive',\n",
              "                                                     [key], {});\n",
              "          if (!dataTable) return;\n",
              "\n",
              "          const docLinkHtml = 'Like what you see? Visit the ' +\n",
              "            '<a target=\"_blank\" href=https://colab.research.google.com/notebooks/data_table.ipynb>data table notebook</a>'\n",
              "            + ' to learn more about interactive tables.';\n",
              "          element.innerHTML = '';\n",
              "          dataTable['output_type'] = 'display_data';\n",
              "          await google.colab.output.renderOutput(dataTable, element);\n",
              "          const docLink = document.createElement('div');\n",
              "          docLink.innerHTML = docLinkHtml;\n",
              "          element.appendChild(docLink);\n",
              "        }\n",
              "      </script>\n",
              "    </div>\n",
              "  </div>\n",
              "  "
            ],
            "text/plain": [
              "             prediction\n",
              "date                   \n",
              "2021-11-21  4218.241699\n",
              "2021-11-28  4060.338867\n",
              "2021-12-05  3899.703613\n",
              "2021-12-12  3763.633545\n",
              "2021-12-19  3499.181885\n",
              "2021-12-26  3313.043213\n",
              "2022-01-02  3401.880859\n",
              "2022-01-09  3344.979492\n",
              "2022-01-16  3082.710938"
            ]
          },
          "metadata": {},
          "execution_count": 584
        }
      ]
    },
    {
      "cell_type": "code",
      "source": [
        "fig, ax = plt.subplots(figsize=(12, 8))\n",
        "ax.plot(testt, label='actual')\n",
        "ax.plot(df_prediction['prediction'], label='prediction')\n",
        "ax.set_title('Actual vs. Prediction');\n",
        "plt.legend();"
      ],
      "metadata": {
        "colab": {
          "base_uri": "https://localhost:8080/",
          "height": 499
        },
        "id": "EtV8-mEoqFgx",
        "outputId": "b8cd4df7-d307-4213-e520-a13424c087ff"
      },
      "execution_count": 585,
      "outputs": [
        {
          "output_type": "display_data",
          "data": {
            "image/png": "[encoded data removed]",
            "text/plain": [
              "<Figure size 864x576 with 1 Axes>"
            ]
          },
          "metadata": {
            "needs_background": "light"
          }
        }
      ]
    },
    {
      "cell_type": "code",
      "source": [
        "target_day.values"
      ],
      "metadata": {
        "colab": {
          "base_uri": "https://localhost:8080/"
        },
        "id": "iUADlY67uuWh",
        "outputId": "8b5ce04b-9233-4e79-d4a5-c8fdc2c0aef9"
      },
      "execution_count": 590,
      "outputs": [
        {
          "output_type": "execute_result",
          "data": {
            "text/plain": [
              "array([ 302.  ,  293.96,  290.91, ..., 3080.95, 3151.97, 3082.68])"
            ]
          },
          "metadata": {},
          "execution_count": 590
        }
      ]
    },
    {
      "cell_type": "code",
      "source": [
        "#create numpy.ndarray\n",
        "target_dayy= target_day.values \n",
        "target_dayy = np.reshape(target_dayy, (-1, 1)) #LTSM requires more input features compared to RNN or DNN\n",
        "scaler = MinMaxScaler(feature_range=(0, 1))#LTSM is senstive to the scale of features\n",
        "target_dayy = scaler.fit_transform(target_dayy)"
      ],
      "metadata": {
        "id": "Cht1t9HSrdeg"
      },
      "execution_count": 888,
      "outputs": []
    },
    {
      "cell_type": "code",
      "source": [
        "train, test = train_test_split(target_dayy, 0.80)"
      ],
      "metadata": {
        "id": "v0KQKzeCunra"
      },
      "execution_count": 889,
      "outputs": []
    },
    {
      "cell_type": "code",
      "source": [
        "len(test)"
      ],
      "metadata": {
        "colab": {
          "base_uri": "https://localhost:8080/"
        },
        "id": "xivSFrAFvKjr",
        "outputId": "8436e974-66b4-4b7c-f38b-9d4b0fa6e659"
      },
      "execution_count": 890,
      "outputs": [
        {
          "output_type": "execute_result",
          "data": {
            "text/plain": [
              "322"
            ]
          },
          "metadata": {},
          "execution_count": 890
        }
      ]
    },
    {
      "cell_type": "code",
      "source": [
        "step_size = 100\n",
        "X_train, y_train = convert2matrix(train, step_size)\n",
        "X_test, y_test = convert2matrix(test, step_size)"
      ],
      "metadata": {
        "id": "0wZUMfWhvFL0"
      },
      "execution_count": 891,
      "outputs": []
    },
    {
      "cell_type": "code",
      "source": [
        "X_train = X_train.reshape(X_train.shape[0], 1, X_train.shape[1])\n",
        "X_test = X_test.reshape(X_test.shape[0], 1, X_test.shape[1])"
      ],
      "metadata": {
        "id": "nw-XX7XSvVkC"
      },
      "execution_count": 892,
      "outputs": []
    },
    {
      "cell_type": "code",
      "source": [
        "model = Sequential()\n",
        "model.add(LSTM(units = 200, activation='relu', return_sequences=True,  input_shape=(X_train.shape[1], step_size)))\n",
        "model.add(Dropout(0.2)) \n",
        "model.add(LSTM(units = 150, activation = 'relu'))\n",
        "model.add(Dense(units =1))\n",
        "model.compile(optimizer='adam', loss='mean_squared_error')\n",
        "model.summary()"
      ],
      "metadata": {
        "colab": {
          "base_uri": "https://localhost:8080/"
        },
        "id": "0Ng9mqJMvY9I",
        "outputId": "c9a18184-8648-4b0d-d3bd-fec0caaabc58"
      },
      "execution_count": 893,
      "outputs": [
        {
          "output_type": "stream",
          "name": "stdout",
          "text": [
            "Model: \"sequential_79\"\n",
            "_________________________________________________________________\n",
            " Layer (type)                Output Shape              Param #   \n",
            "=================================================================\n",
            " lstm_178 (LSTM)             (None, 1, 200)            240800    \n",
            "                                                                 \n",
            " dropout_92 (Dropout)        (None, 1, 200)            0         \n",
            "                                                                 \n",
            " lstm_179 (LSTM)             (None, 150)               210600    \n",
            "                                                                 \n",
            " dense_75 (Dense)            (None, 1)                 151       \n",
            "                                                                 \n",
            "=================================================================\n",
            "Total params: 451,551\n",
            "Trainable params: 451,551\n",
            "Non-trainable params: 0\n",
            "_________________________________________________________________\n"
          ]
        }
      ]
    },
    {
      "cell_type": "code",
      "source": [
        "history = model.fit(X_train, y_train, epochs=100, batch_size=100, validation_data=(X_test, y_test), verbose=1)"
      ],
      "metadata": {
        "colab": {
          "base_uri": "https://localhost:8080/"
        },
        "id": "a43YRLB5vgv_",
        "outputId": "68ebc818-da9b-43e9-b8bc-f594f058cce9"
      },
      "execution_count": 894,
      "outputs": [
        {
          "output_type": "stream",
          "name": "stdout",
          "text": [
            "Epoch 1/100\n",
            "12/12 [==============================] - 3s 57ms/step - loss: 0.0048 - val_loss: 0.0203\n",
            "Epoch 2/100\n",
            "12/12 [==============================] - 0s 21ms/step - loss: 0.0024 - val_loss: 0.0139\n",
            "Epoch 3/100\n",
            "12/12 [==============================] - 0s 25ms/step - loss: 0.0012 - val_loss: 0.2089\n",
            "Epoch 4/100\n",
            "12/12 [==============================] - 0s 22ms/step - loss: 6.4399e-04 - val_loss: 0.3680\n",
            "Epoch 5/100\n",
            "12/12 [==============================] - 0s 22ms/step - loss: 5.2694e-04 - val_loss: 0.3071\n",
            "Epoch 6/100\n",
            "12/12 [==============================] - 0s 21ms/step - loss: 4.2065e-04 - val_loss: 0.1525\n",
            "Epoch 7/100\n",
            "12/12 [==============================] - 0s 22ms/step - loss: 3.6765e-04 - val_loss: 0.0554\n",
            "Epoch 8/100\n",
            "12/12 [==============================] - 0s 22ms/step - loss: 2.9487e-04 - val_loss: 0.0598\n",
            "Epoch 9/100\n",
            "12/12 [==============================] - 0s 24ms/step - loss: 2.8286e-04 - val_loss: 0.0636\n",
            "Epoch 10/100\n",
            "12/12 [==============================] - 0s 36ms/step - loss: 2.5060e-04 - val_loss: 0.0497\n",
            "Epoch 11/100\n",
            "12/12 [==============================] - 0s 34ms/step - loss: 2.6479e-04 - val_loss: 0.0433\n",
            "Epoch 12/100\n",
            "12/12 [==============================] - 0s 36ms/step - loss: 2.2800e-04 - val_loss: 0.0314\n",
            "Epoch 13/100\n",
            "12/12 [==============================] - 0s 29ms/step - loss: 2.3953e-04 - val_loss: 0.0183\n",
            "Epoch 14/100\n",
            "12/12 [==============================] - 0s 28ms/step - loss: 2.0397e-04 - val_loss: 0.0105\n",
            "Epoch 15/100\n",
            "12/12 [==============================] - 0s 31ms/step - loss: 1.9374e-04 - val_loss: 0.0128\n",
            "Epoch 16/100\n",
            "12/12 [==============================] - 0s 33ms/step - loss: 1.9190e-04 - val_loss: 0.0064\n",
            "Epoch 17/100\n",
            "12/12 [==============================] - 0s 32ms/step - loss: 1.8315e-04 - val_loss: 0.0058\n",
            "Epoch 18/100\n",
            "12/12 [==============================] - 0s 34ms/step - loss: 1.7292e-04 - val_loss: 0.0080\n",
            "Epoch 19/100\n",
            "12/12 [==============================] - 0s 35ms/step - loss: 1.8209e-04 - val_loss: 0.0066\n",
            "Epoch 20/100\n",
            "12/12 [==============================] - 0s 34ms/step - loss: 1.6134e-04 - val_loss: 0.0048\n",
            "Epoch 21/100\n",
            "12/12 [==============================] - 0s 40ms/step - loss: 1.5205e-04 - val_loss: 0.0043\n",
            "Epoch 22/100\n",
            "12/12 [==============================] - 0s 38ms/step - loss: 1.5557e-04 - val_loss: 0.0044\n",
            "Epoch 23/100\n",
            "12/12 [==============================] - 0s 37ms/step - loss: 1.5097e-04 - val_loss: 0.0075\n",
            "Epoch 24/100\n",
            "12/12 [==============================] - 0s 33ms/step - loss: 1.4757e-04 - val_loss: 0.0047\n",
            "Epoch 25/100\n",
            "12/12 [==============================] - 1s 44ms/step - loss: 1.4580e-04 - val_loss: 0.0082\n",
            "Epoch 26/100\n",
            "12/12 [==============================] - 0s 28ms/step - loss: 1.2150e-04 - val_loss: 0.0120\n",
            "Epoch 27/100\n",
            "12/12 [==============================] - 0s 22ms/step - loss: 1.4819e-04 - val_loss: 0.0053\n",
            "Epoch 28/100\n",
            "12/12 [==============================] - 0s 23ms/step - loss: 1.2420e-04 - val_loss: 0.0069\n",
            "Epoch 29/100\n",
            "12/12 [==============================] - 0s 22ms/step - loss: 1.3810e-04 - val_loss: 0.0041\n",
            "Epoch 30/100\n",
            "12/12 [==============================] - 0s 22ms/step - loss: 1.3402e-04 - val_loss: 0.0048\n",
            "Epoch 31/100\n",
            "12/12 [==============================] - 0s 23ms/step - loss: 1.2317e-04 - val_loss: 0.0044\n",
            "Epoch 32/100\n",
            "12/12 [==============================] - 0s 24ms/step - loss: 1.2965e-04 - val_loss: 0.0041\n",
            "Epoch 33/100\n",
            "12/12 [==============================] - 0s 22ms/step - loss: 1.2710e-04 - val_loss: 0.0045\n",
            "Epoch 34/100\n",
            "12/12 [==============================] - 0s 22ms/step - loss: 1.1309e-04 - val_loss: 0.0054\n",
            "Epoch 35/100\n",
            "12/12 [==============================] - 0s 22ms/step - loss: 1.1183e-04 - val_loss: 0.0061\n",
            "Epoch 36/100\n",
            "12/12 [==============================] - 0s 24ms/step - loss: 1.1753e-04 - val_loss: 0.0035\n",
            "Epoch 37/100\n",
            "12/12 [==============================] - 0s 22ms/step - loss: 1.3270e-04 - val_loss: 0.0109\n",
            "Epoch 38/100\n",
            "12/12 [==============================] - 0s 22ms/step - loss: 1.2210e-04 - val_loss: 0.0058\n",
            "Epoch 39/100\n",
            "12/12 [==============================] - 0s 25ms/step - loss: 1.2595e-04 - val_loss: 0.0043\n",
            "Epoch 40/100\n",
            "12/12 [==============================] - 0s 22ms/step - loss: 1.1049e-04 - val_loss: 0.0043\n",
            "Epoch 41/100\n",
            "12/12 [==============================] - 0s 22ms/step - loss: 1.0578e-04 - val_loss: 0.0062\n",
            "Epoch 42/100\n",
            "12/12 [==============================] - 0s 22ms/step - loss: 1.1555e-04 - val_loss: 0.0063\n",
            "Epoch 43/100\n",
            "12/12 [==============================] - 0s 22ms/step - loss: 1.1461e-04 - val_loss: 0.0032\n",
            "Epoch 44/100\n",
            "12/12 [==============================] - 0s 22ms/step - loss: 1.2966e-04 - val_loss: 0.0059\n",
            "Epoch 45/100\n",
            "12/12 [==============================] - 0s 22ms/step - loss: 1.1120e-04 - val_loss: 0.0057\n",
            "Epoch 46/100\n",
            "12/12 [==============================] - 0s 22ms/step - loss: 1.0841e-04 - val_loss: 0.0045\n",
            "Epoch 47/100\n",
            "12/12 [==============================] - 0s 24ms/step - loss: 1.0284e-04 - val_loss: 0.0032\n",
            "Epoch 48/100\n",
            "12/12 [==============================] - 0s 22ms/step - loss: 1.1037e-04 - val_loss: 0.0084\n",
            "Epoch 49/100\n",
            "12/12 [==============================] - 0s 22ms/step - loss: 1.2938e-04 - val_loss: 0.0028\n",
            "Epoch 50/100\n",
            "12/12 [==============================] - 0s 24ms/step - loss: 1.1369e-04 - val_loss: 0.0037\n",
            "Epoch 51/100\n",
            "12/12 [==============================] - 0s 24ms/step - loss: 1.0737e-04 - val_loss: 0.0209\n",
            "Epoch 52/100\n",
            "12/12 [==============================] - 0s 23ms/step - loss: 1.2753e-04 - val_loss: 0.0052\n",
            "Epoch 53/100\n",
            "12/12 [==============================] - 0s 23ms/step - loss: 1.1699e-04 - val_loss: 0.0056\n",
            "Epoch 54/100\n",
            "12/12 [==============================] - 0s 24ms/step - loss: 9.6854e-05 - val_loss: 0.0123\n",
            "Epoch 55/100\n",
            "12/12 [==============================] - 0s 23ms/step - loss: 1.0194e-04 - val_loss: 0.0095\n",
            "Epoch 56/100\n",
            "12/12 [==============================] - 0s 22ms/step - loss: 9.2416e-05 - val_loss: 0.0049\n",
            "Epoch 57/100\n",
            "12/12 [==============================] - 0s 23ms/step - loss: 1.0167e-04 - val_loss: 0.0082\n",
            "Epoch 58/100\n",
            "12/12 [==============================] - 0s 25ms/step - loss: 8.8021e-05 - val_loss: 0.0075\n",
            "Epoch 59/100\n",
            "12/12 [==============================] - 0s 22ms/step - loss: 1.0638e-04 - val_loss: 0.0061\n",
            "Epoch 60/100\n",
            "12/12 [==============================] - 0s 23ms/step - loss: 9.0991e-05 - val_loss: 0.0031\n",
            "Epoch 61/100\n",
            "12/12 [==============================] - 0s 23ms/step - loss: 1.0087e-04 - val_loss: 0.0051\n",
            "Epoch 62/100\n",
            "12/12 [==============================] - 0s 25ms/step - loss: 8.8108e-05 - val_loss: 0.0062\n",
            "Epoch 63/100\n",
            "12/12 [==============================] - 0s 22ms/step - loss: 8.3030e-05 - val_loss: 0.0070\n",
            "Epoch 64/100\n",
            "12/12 [==============================] - 0s 22ms/step - loss: 9.4473e-05 - val_loss: 0.0042\n",
            "Epoch 65/100\n",
            "12/12 [==============================] - 0s 23ms/step - loss: 8.5766e-05 - val_loss: 0.0055\n",
            "Epoch 66/100\n",
            "12/12 [==============================] - 0s 24ms/step - loss: 8.9049e-05 - val_loss: 0.0047\n",
            "Epoch 67/100\n",
            "12/12 [==============================] - 0s 23ms/step - loss: 9.3492e-05 - val_loss: 0.0069\n",
            "Epoch 68/100\n",
            "12/12 [==============================] - 0s 23ms/step - loss: 9.1168e-05 - val_loss: 0.0050\n",
            "Epoch 69/100\n",
            "12/12 [==============================] - 0s 24ms/step - loss: 7.3472e-05 - val_loss: 0.0042\n",
            "Epoch 70/100\n",
            "12/12 [==============================] - 0s 23ms/step - loss: 9.0215e-05 - val_loss: 0.0073\n",
            "Epoch 71/100\n",
            "12/12 [==============================] - 0s 22ms/step - loss: 8.6690e-05 - val_loss: 0.0050\n",
            "Epoch 72/100\n",
            "12/12 [==============================] - 0s 23ms/step - loss: 9.2662e-05 - val_loss: 0.0168\n",
            "Epoch 73/100\n",
            "12/12 [==============================] - 0s 24ms/step - loss: 8.9807e-05 - val_loss: 0.0032\n",
            "Epoch 74/100\n",
            "12/12 [==============================] - 0s 23ms/step - loss: 8.8886e-05 - val_loss: 0.0078\n",
            "Epoch 75/100\n",
            "12/12 [==============================] - 0s 22ms/step - loss: 8.5409e-05 - val_loss: 0.0082\n",
            "Epoch 76/100\n",
            "12/12 [==============================] - 0s 25ms/step - loss: 1.0219e-04 - val_loss: 0.0073\n",
            "Epoch 77/100\n",
            "12/12 [==============================] - 0s 23ms/step - loss: 9.5478e-05 - val_loss: 0.0052\n",
            "Epoch 78/100\n",
            "12/12 [==============================] - 0s 23ms/step - loss: 8.1634e-05 - val_loss: 0.0047\n",
            "Epoch 79/100\n",
            "12/12 [==============================] - 0s 22ms/step - loss: 9.4430e-05 - val_loss: 0.0132\n",
            "Epoch 80/100\n",
            "12/12 [==============================] - 0s 24ms/step - loss: 7.7505e-05 - val_loss: 0.0051\n",
            "Epoch 81/100\n",
            "12/12 [==============================] - 0s 22ms/step - loss: 1.0088e-04 - val_loss: 0.0090\n",
            "Epoch 82/100\n",
            "12/12 [==============================] - 0s 23ms/step - loss: 9.8945e-05 - val_loss: 0.0087\n",
            "Epoch 83/100\n",
            "12/12 [==============================] - 0s 23ms/step - loss: 7.8595e-05 - val_loss: 0.0078\n",
            "Epoch 84/100\n",
            "12/12 [==============================] - 0s 24ms/step - loss: 8.0336e-05 - val_loss: 0.0097\n",
            "Epoch 85/100\n",
            "12/12 [==============================] - 0s 23ms/step - loss: 7.9105e-05 - val_loss: 0.0054\n",
            "Epoch 86/100\n",
            "12/12 [==============================] - 0s 23ms/step - loss: 7.9635e-05 - val_loss: 0.0075\n",
            "Epoch 87/100\n",
            "12/12 [==============================] - 0s 24ms/step - loss: 7.3382e-05 - val_loss: 0.0064\n",
            "Epoch 88/100\n",
            "12/12 [==============================] - 0s 22ms/step - loss: 7.7006e-05 - val_loss: 0.0076\n",
            "Epoch 89/100\n",
            "12/12 [==============================] - 0s 23ms/step - loss: 7.4682e-05 - val_loss: 0.0057\n",
            "Epoch 90/100\n",
            "12/12 [==============================] - 0s 22ms/step - loss: 7.6685e-05 - val_loss: 0.0079\n",
            "Epoch 91/100\n",
            "12/12 [==============================] - 0s 24ms/step - loss: 7.8548e-05 - val_loss: 0.0065\n",
            "Epoch 92/100\n",
            "12/12 [==============================] - 0s 22ms/step - loss: 7.1546e-05 - val_loss: 0.0063\n",
            "Epoch 93/100\n",
            "12/12 [==============================] - 0s 24ms/step - loss: 8.6661e-05 - val_loss: 0.0078\n",
            "Epoch 94/100\n",
            "12/12 [==============================] - 0s 22ms/step - loss: 8.9232e-05 - val_loss: 0.0057\n",
            "Epoch 95/100\n",
            "12/12 [==============================] - 0s 24ms/step - loss: 8.2118e-05 - val_loss: 0.0132\n",
            "Epoch 96/100\n",
            "12/12 [==============================] - 0s 23ms/step - loss: 7.7205e-05 - val_loss: 0.0078\n",
            "Epoch 97/100\n",
            "12/12 [==============================] - 0s 22ms/step - loss: 7.8629e-05 - val_loss: 0.0032\n",
            "Epoch 98/100\n",
            "12/12 [==============================] - 0s 24ms/step - loss: 9.9140e-05 - val_loss: 0.0188\n",
            "Epoch 99/100\n",
            "12/12 [==============================] - 0s 23ms/step - loss: 9.1878e-05 - val_loss: 0.0043\n",
            "Epoch 100/100\n",
            "12/12 [==============================] - 0s 23ms/step - loss: 8.3726e-05 - val_loss: 0.0093\n"
          ]
        }
      ]
    },
    {
      "cell_type": "code",
      "source": [
        "train_predict = model.predict(X_train)\n",
        "test_predict = model.predict(X_test)"
      ],
      "metadata": {
        "id": "cY4DPyQDvmmF"
      },
      "execution_count": 895,
      "outputs": []
    },
    {
      "cell_type": "code",
      "source": [
        "train_predicts = scaler.inverse_transform(train_predict)\n",
        "test_predicts = scaler.inverse_transform(test_predict)\n",
        "y_trains = scaler.inverse_transform(y_train)\n",
        "y_tests = scaler.inverse_transform(y_test)"
      ],
      "metadata": {
        "id": "zIoSOqlTvwUI"
      },
      "execution_count": 896,
      "outputs": []
    },
    {
      "cell_type": "code",
      "source": [
        "np.sqrt(mean_squared_error(y_trains, train_predicts))"
      ],
      "metadata": {
        "colab": {
          "base_uri": "https://localhost:8080/"
        },
        "id": "os7o8F5EvzXz",
        "outputId": "92ccd76a-936e-481f-e7e5-8c2bd202ea38"
      },
      "execution_count": 897,
      "outputs": [
        {
          "output_type": "execute_result",
          "data": {
            "text/plain": [
              "34.2305044430179"
            ]
          },
          "metadata": {},
          "execution_count": 897
        }
      ]
    },
    {
      "cell_type": "code",
      "source": [
        "np.sqrt(mean_squared_error(y_tests, test_predicts))"
      ],
      "metadata": {
        "colab": {
          "base_uri": "https://localhost:8080/"
        },
        "id": "KzuyKgOqv1zU",
        "outputId": "0d33ed21-a4f2-4c7d-cc1e-b0bde7a13185"
      },
      "execution_count": 898,
      "outputs": [
        {
          "output_type": "execute_result",
          "data": {
            "text/plain": [
              "454.5329418764132"
            ]
          },
          "metadata": {},
          "execution_count": 898
        }
      ]
    },
    {
      "cell_type": "code",
      "source": [
        "trainn, testt = train_test_split(target_day, 0.80)"
      ],
      "metadata": {
        "id": "JilyZS-dxMBP"
      },
      "execution_count": 855,
      "outputs": []
    },
    {
      "cell_type": "code",
      "source": [
        ""
      ],
      "metadata": {
        "id": "D1NH-tykxT5Z"
      },
      "execution_count": 855,
      "outputs": []
    },
    {
      "cell_type": "code",
      "source": [
        "x = len(test_predict)\n",
        "predict_index = testt.index[-x:]\n",
        "df_prediction = pd.DataFrame(test_predicts, index = predict_index, columns = ['prediction'])"
      ],
      "metadata": {
        "id": "N16bADkdv4X_"
      },
      "execution_count": 856,
      "outputs": []
    },
    {
      "cell_type": "code",
      "source": [
        "df_prediction"
      ],
      "metadata": {
        "colab": {
          "base_uri": "https://localhost:8080/",
          "height": 455
        },
        "id": "aLvHBc95w7yJ",
        "outputId": "80bf9aa6-3407-4fcd-de4a-419204e26b5f"
      },
      "execution_count": 857,
      "outputs": [
        {
          "output_type": "execute_result",
          "data": {
            "text/html": [
              "\n",
              "  <div id=\"df-a94657a2-2f24-4938-b7d9-f1c9edc85114\">\n",
              "    <div class=\"colab-df-container\">\n",
              "      <div>\n",
              "<style scoped>\n",
              "    .dataframe tbody tr th:only-of-type {\n",
              "        vertical-align: middle;\n",
              "    }\n",
              "\n",
              "    .dataframe tbody tr th {\n",
              "        vertical-align: top;\n",
              "    }\n",
              "\n",
              "    .dataframe thead th {\n",
              "        text-align: right;\n",
              "    }\n",
              "</style>\n",
              "<table border=\"1\" class=\"dataframe\">\n",
              "  <thead>\n",
              "    <tr style=\"text-align: right;\">\n",
              "      <th></th>\n",
              "      <th>prediction</th>\n",
              "    </tr>\n",
              "    <tr>\n",
              "      <th>date</th>\n",
              "      <th></th>\n",
              "    </tr>\n",
              "  </thead>\n",
              "  <tbody>\n",
              "    <tr>\n",
              "      <th>2021-06-03</th>\n",
              "      <td>2150.858887</td>\n",
              "    </tr>\n",
              "    <tr>\n",
              "      <th>2021-06-04</th>\n",
              "      <td>2209.094727</td>\n",
              "    </tr>\n",
              "    <tr>\n",
              "      <th>2021-06-05</th>\n",
              "      <td>2235.246338</td>\n",
              "    </tr>\n",
              "    <tr>\n",
              "      <th>2021-06-06</th>\n",
              "      <td>2201.208740</td>\n",
              "    </tr>\n",
              "    <tr>\n",
              "      <th>2021-06-07</th>\n",
              "      <td>2249.960938</td>\n",
              "    </tr>\n",
              "    <tr>\n",
              "      <th>...</th>\n",
              "      <td>...</td>\n",
              "    </tr>\n",
              "    <tr>\n",
              "      <th>2022-01-06</th>\n",
              "      <td>3133.154053</td>\n",
              "    </tr>\n",
              "    <tr>\n",
              "      <th>2022-01-07</th>\n",
              "      <td>3033.913574</td>\n",
              "    </tr>\n",
              "    <tr>\n",
              "      <th>2022-01-08</th>\n",
              "      <td>2909.868896</td>\n",
              "    </tr>\n",
              "    <tr>\n",
              "      <th>2022-01-09</th>\n",
              "      <td>2804.905273</td>\n",
              "    </tr>\n",
              "    <tr>\n",
              "      <th>2022-01-10</th>\n",
              "      <td>2765.195557</td>\n",
              "    </tr>\n",
              "  </tbody>\n",
              "</table>\n",
              "<p>222 rows × 1 columns</p>\n",
              "</div>\n",
              "      <button class=\"colab-df-convert\" onclick=\"convertToInteractive('df-a94657a2-2f24-4938-b7d9-f1c9edc85114')\"\n",
              "              title=\"Convert this dataframe to an interactive table.\"\n",
              "              style=\"display:none;\">\n",
              "        \n",
              "  <svg xmlns=\"http://www.w3.org/2000/svg\" height=\"24px\"viewBox=\"0 0 24 24\"\n",
              "       width=\"24px\">\n",
              "    <path d=\"M0 0h24v24H0V0z\" fill=\"none\"/>\n",
              "    <path d=\"M18.56 5.44l.94 2.06.94-2.06 2.06-.94-2.06-.94-.94-2.06-.94 2.06-2.06.94zm-11 1L8.5 8.5l.94-2.06 2.06-.94-2.06-.94L8.5 2.5l-.94 2.06-2.06.94zm10 10l.94 2.06.94-2.06 2.06-.94-2.06-.94-.94-2.06-.94 2.06-2.06.94z\"/><path d=\"M17.41 7.96l-1.37-1.37c-.4-.4-.92-.59-1.43-.59-.52 0-1.04.2-1.43.59L10.3 9.45l-7.72 7.72c-.78.78-.78 2.05 0 2.83L4 21.41c.39.39.9.59 1.41.59.51 0 1.02-.2 1.41-.59l7.78-7.78 2.81-2.81c.8-.78.8-2.07 0-2.86zM5.41 20L4 18.59l7.72-7.72 1.47 1.35L5.41 20z\"/>\n",
              "  </svg>\n",
              "      </button>\n",
              "      \n",
              "  <style>\n",
              "    .colab-df-container {\n",
              "      display:flex;\n",
              "      flex-wrap:wrap;\n",
              "      gap: 12px;\n",
              "    }\n",
              "\n",
              "    .colab-df-convert {\n",
              "      background-color: #E8F0FE;\n",
              "      border: none;\n",
              "      border-radius: 50%;\n",
              "      cursor: pointer;\n",
              "      display: none;\n",
              "      fill: #1967D2;\n",
              "      height: 32px;\n",
              "      padding: 0 0 0 0;\n",
              "      width: 32px;\n",
              "    }\n",
              "\n",
              "    .colab-df-convert:hover {\n",
              "      background-color: #E2EBFA;\n",
              "      box-shadow: 0px 1px 2px rgba(60, 64, 67, 0.3), 0px 1px 3px 1px rgba(60, 64, 67, 0.15);\n",
              "      fill: #174EA6;\n",
              "    }\n",
              "\n",
              "    [theme=dark] .colab-df-convert {\n",
              "      background-color: #3B4455;\n",
              "      fill: #D2E3FC;\n",
              "    }\n",
              "\n",
              "    [theme=dark] .colab-df-convert:hover {\n",
              "      background-color: #434B5C;\n",
              "      box-shadow: 0px 1px 3px 1px rgba(0, 0, 0, 0.15);\n",
              "      filter: drop-shadow(0px 1px 2px rgba(0, 0, 0, 0.3));\n",
              "      fill: #FFFFFF;\n",
              "    }\n",
              "  </style>\n",
              "\n",
              "      <script>\n",
              "        const buttonEl =\n",
              "          document.querySelector('#df-a94657a2-2f24-4938-b7d9-f1c9edc85114 button.colab-df-convert');\n",
              "        buttonEl.style.display =\n",
              "          google.colab.kernel.accessAllowed ? 'block' : 'none';\n",
              "\n",
              "        async function convertToInteractive(key) {\n",
              "          const element = document.querySelector('#df-a94657a2-2f24-4938-b7d9-f1c9edc85114');\n",
              "          const dataTable =\n",
              "            await google.colab.kernel.invokeFunction('convertToInteractive',\n",
              "                                                     [key], {});\n",
              "          if (!dataTable) return;\n",
              "\n",
              "          const docLinkHtml = 'Like what you see? Visit the ' +\n",
              "            '<a target=\"_blank\" href=https://colab.research.google.com/notebooks/data_table.ipynb>data table notebook</a>'\n",
              "            + ' to learn more about interactive tables.';\n",
              "          element.innerHTML = '';\n",
              "          dataTable['output_type'] = 'display_data';\n",
              "          await google.colab.output.renderOutput(dataTable, element);\n",
              "          const docLink = document.createElement('div');\n",
              "          docLink.innerHTML = docLinkHtml;\n",
              "          element.appendChild(docLink);\n",
              "        }\n",
              "      </script>\n",
              "    </div>\n",
              "  </div>\n",
              "  "
            ],
            "text/plain": [
              "             prediction\n",
              "date                   \n",
              "2021-06-03  2150.858887\n",
              "2021-06-04  2209.094727\n",
              "2021-06-05  2235.246338\n",
              "2021-06-06  2201.208740\n",
              "2021-06-07  2249.960938\n",
              "...                 ...\n",
              "2022-01-06  3133.154053\n",
              "2022-01-07  3033.913574\n",
              "2022-01-08  2909.868896\n",
              "2022-01-09  2804.905273\n",
              "2022-01-10  2765.195557\n",
              "\n",
              "[222 rows x 1 columns]"
            ]
          },
          "metadata": {},
          "execution_count": 857
        }
      ]
    },
    {
      "cell_type": "code",
      "source": [
        "fig, ax = plt.subplots(figsize=(12, 8))\n",
        "ax.plot(testt[-len(df_prediction):], label='actual')\n",
        "ax.plot(df_prediction['prediction'], label='prediction')\n",
        "ax.set_title('Actual vs. Prediction');\n",
        "plt.legend();"
      ],
      "metadata": {
        "colab": {
          "base_uri": "https://localhost:8080/",
          "height": 499
        },
        "id": "JAZee3zOwoLC",
        "outputId": "bd592f94-e61e-4ecd-ad5c-8cc2f63f9611"
      },
      "execution_count": 858,
      "outputs": [
        {
          "output_type": "display_data",
          "data": {
            "image/png": "[encoded data removed]",
            "text/plain": [
              "<Figure size 864x576 with 1 Axes>"
            ]
          },
          "metadata": {
            "needs_background": "light"
          }
        }
      ]
    },
    {
      "cell_type": "code",
      "source": [
        ""
      ],
      "metadata": {
        "id": "s9iYySI_wwOD"
      },
      "execution_count": 649,
      "outputs": []
    }
  ]
}